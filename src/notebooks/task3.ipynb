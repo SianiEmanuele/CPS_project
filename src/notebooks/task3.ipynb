{
 "cells": [
  {
   "cell_type": "code",
   "execution_count": 9,
   "metadata": {},
   "outputs": [],
   "source": [
    "import sys\n",
    "import os as os\n",
    "sys.path.append(os.path.abspath(\"..\"))\n",
    "import numpy as np\n",
    "import matplotlib.pyplot as plt\n",
    "from utils.algorithms import *\n",
    "import scipy.io as sio\n",
    "from scipy import stats"
   ]
  },
  {
   "cell_type": "code",
   "execution_count": 10,
   "metadata": {},
   "outputs": [],
   "source": [
    "def Localization_with_attacks(n, q, G, tau, lam, y):\n",
    "\n",
    "    # Estimate x_tilda using ISTA\n",
    "    lam_weights = np.concatenate((np.full(n, 10), np.full(q,20)))\n",
    "    w = np.zeros(n+q)\n",
    "    w_estimated, w_estimated_supp, iterations = ISTA(w, G, tau, lam * lam_weights, y)\n",
    "    \n",
    "    print(\"\\nNon-zero components of W: \")\n",
    "    for elem in w_estimated_supp:\n",
    "        print(w_estimated[elem])\n",
    "\n",
    "    print()\n",
    "    return w_estimated_supp, iterations"
   ]
  },
  {
   "cell_type": "code",
   "execution_count": 39,
   "metadata": {},
   "outputs": [],
   "source": [
    "def task_3():\n",
    "\n",
    "    cwd = os.getcwd()\n",
    "    #original matrices\n",
    "    mat = sio.loadmat(cwd + r\"\\..\\utils\\localization.mat\")\n",
    "    #normalized G matrix\n",
    "    mat2 = sio.loadmat(cwd + r\"\\..\\utils\\localization_with_G_normalized.mat\")\n",
    "\n",
    "    A = mat['A']\n",
    "    y = np.squeeze(mat['y'])\n",
    "    D = mat['D']\n",
    "    n = D.shape[1]\n",
    "    q = D.shape[0]\n",
    "    # print(A.shape , y.shape, D.shape)\n",
    "\n",
    "    G = np.hstack((D, np.eye(q)))\n",
    "\n",
    "    G_normalized = mat2['G']\n",
    "\n",
    "\n",
    "    #G = stats.zscore(G, axis=0)\n",
    "    #print (G.shape)\n",
    "\n",
    "    # mean_G = np.mean(G, axis=0)\n",
    "    # std_G = np.std(G, axis=0)\n",
    "\n",
    "    # G = (G - mean_G) / std_G\n",
    "\n",
    "\n",
    "    tau = 1 / (np.linalg.norm(G_normalized, ord=2)**2) - 10**(-8)\n",
    "    lam = 1\n",
    "    \n",
    "    #print(n,q)\n",
    "\n",
    "    w_estimated_supp, iterations = Localization_with_attacks(n, q, G_normalized, tau, lam, y)\n",
    "\n",
    "    print(\"Estimated support: \", w_estimated_supp)\n"
   ]
  },
  {
   "cell_type": "code",
   "execution_count": 41,
   "metadata": {},
   "outputs": [
    {
     "name": "stdout",
     "output_type": "stream",
     "text": [
      "\n",
      "Non-zero components of W: \n",
      "0.2199734168757797\n",
      "23.071712311687257\n",
      "2.6095088255985606\n",
      "3.695814857403892\n",
      "4.591312919612134\n",
      "0.04848888931951319\n",
      "2.412058083233828\n",
      "0.841548567956342\n",
      "0.199242211580919\n",
      "0.1566070721745982\n",
      "33.503495922987696\n",
      "4.993838717099125\n",
      "4.717437939482525\n",
      "\n",
      "Estimated support:  [ 17  22  32  33  35  36  46  50  60  77  86 111 115]\n"
     ]
    }
   ],
   "source": [
    "task_3()"
   ]
  }
 ],
 "metadata": {
  "kernelspec": {
   "display_name": "base",
   "language": "python",
   "name": "python3"
  },
  "language_info": {
   "codemirror_mode": {
    "name": "ipython",
    "version": 3
   },
   "file_extension": ".py",
   "mimetype": "text/x-python",
   "name": "python",
   "nbconvert_exporter": "python",
   "pygments_lexer": "ipython3",
   "version": "3.9.16"
  }
 },
 "nbformat": 4,
 "nbformat_minor": 2
}
