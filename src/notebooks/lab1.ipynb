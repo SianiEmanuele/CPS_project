{
 "cells": [
  {
   "cell_type": "code",
   "execution_count": 12,
   "metadata": {},
   "outputs": [],
   "source": [
    "import os as os\n",
    "import numpy as np\n",
    "import sys\n",
    "sys.path.append(os.path.abspath(\"..\"))\n",
    "from utils.algorithms import *\n"
   ]
  },
  {
   "cell_type": "markdown",
   "metadata": {},
   "source": [
    "# Exercise 1"
   ]
  },
  {
   "cell_type": "code",
   "execution_count": 13,
   "metadata": {},
   "outputs": [],
   "source": [
    "def ISTA_20_runs(p,q,C,tau,lam):\n",
    "    #parameters definition with suggested settings\n",
    "    q=q\n",
    "    p=p\n",
    "    i=0 #counter\n",
    "\n",
    "    x_tilda_supports = []\n",
    "    x_estimated_supports = []\n",
    "    num_iterations = []\n",
    "\n",
    "    #running the simulation 20 times\n",
    "    while(i < 20):        \n",
    "        # generating x_tilda with 2-sparsity\n",
    "        x_tilda = np.zeros(p)\n",
    "        x_tilda[np.random.choice(p, 2, replace=False)] = np.random.choice([-1, 1], 2) * np.random.uniform(1, 2)\n",
    "        x_tilda_supports.append (np.where(x_tilda != 0)[0])\n",
    "        \n",
    "        eta = 10**(-2) * np.random.randn(q)\n",
    "\n",
    "        y = np.dot(C, x_tilda) + eta\n",
    "        x_estimated, x_estimated_supp, iterations = ISTA(np.zeros(p),C,tau,lam,y)\n",
    "        x_estimated_supports.append(x_estimated_supp)\n",
    "        num_iterations.append(iterations)\n",
    "\n",
    "        i+=1\n",
    "    correct_estimations = 0\n",
    "    for j in range(20):\n",
    "        if np.array_equal(x_tilda_supports[j], x_estimated_supports[j]):\n",
    "            correct_estimations += 1\n",
    "    return correct_estimations, num_iterations"
   ]
  },
  {
   "cell_type": "markdown",
   "metadata": {},
   "source": [
    "## Question 1 and 3"
   ]
  },
  {
   "cell_type": "code",
   "execution_count": 14,
   "metadata": {},
   "outputs": [
    {
     "name": "stdout",
     "output_type": "stream",
     "text": [
      "\n",
      "FIRST EXERCISE WITH SUGGESTED PARAMETERS (q=10, p=20)\n",
      "\n",
      "             QUESTION 1\n",
      "- Support recovery rate: how many times the support of x_tilda is correctly estimated?\n",
      "The support of x_tilda is correctly estimated in  8  out of 20 runs \n",
      "Min iterations =  1048  || Max iterations =  55274  || Mean Iterations =  6140.45 \n",
      "\n"
     ]
    }
   ],
   "source": [
    "q=10\n",
    "p=20\n",
    "C = np.random.rand(q, p)\n",
    "C_l_2_norm = np.linalg.norm(C, ord=2)\n",
    "tau = 1 / (C_l_2_norm**2) - 10**(-8)\n",
    "lam = 1 / (100*tau)\n",
    "\n",
    "print(\"\\nFIRST EXERCISE WITH SUGGESTED PARAMETERS (q=10, p=20)\\n\")\n",
    "\n",
    "print(\"             QUESTION 1\\n- Support recovery rate: how many times the support of x_tilda is correctly estimated?\")\n",
    "correct_estimations, num_iterations = ISTA_20_runs(p, q, C, tau, lam)\n",
    "print(\"The support of x_tilda is correctly estimated in \", correct_estimations, \" out of 20 runs\" , \n",
    "        \"\\nMin iterations = \", min(num_iterations), \" || Max iterations = \", max(num_iterations), \" || Mean Iterations = \", np.mean(num_iterations), \"\\n\")"
   ]
  },
  {
   "cell_type": "markdown",
   "metadata": {},
   "source": [
    "## Question 2"
   ]
  },
  {
   "cell_type": "code",
   "execution_count": 15,
   "metadata": {},
   "outputs": [
    {
     "name": "stdout",
     "output_type": "stream",
     "text": [
      "             QUESTION 2\n",
      "- Can we obtain 100% of success in the support recovery by increasing q?\n",
      "\n",
      "q =  20 || The support of x_tilda is correctly estimated in  10  out of 20 runs \n",
      "\n",
      "q =  30 || The support of x_tilda is correctly estimated in  12  out of 20 runs \n",
      "\n",
      "q =  100 || The support of x_tilda is correctly estimated in  20  out of 20 runs \n",
      "\n"
     ]
    }
   ],
   "source": [
    "print(\"             QUESTION 2\\n- Can we obtain 100% of success in the support recovery by increasing q?\\n\")\n",
    "#parameters calculation with q=15\n",
    "q = 20\n",
    "C = np.random.rand(q, p)\n",
    "C_l_2_norm = np.linalg.norm(C, ord=2)\n",
    "tau = 1 / (C_l_2_norm**2) - 10**(-8)\n",
    "lam = 1 / (100*tau)\n",
    "\n",
    "#simulation \n",
    "correct_estimations, num_iterations = ISTA_20_runs(p, q, C, tau, lam)\n",
    "print(\"q = \", q, \"|| The support of x_tilda is correctly estimated in \", correct_estimations, \" out of 20 runs\" , \"\\n\")\n",
    "\n",
    "#parameters calculation with q=20\n",
    "q = 30\n",
    "C = np.random.rand(q, p)\n",
    "C_l_2_norm = np.linalg.norm(C, ord=2)\n",
    "tau = 1 / (C_l_2_norm**2) - 10**(-8)\n",
    "lam = 1 / (100*tau)\n",
    "\n",
    "#simulation \n",
    "correct_estimations, num_iterations = ISTA_20_runs(p, q, C, tau, lam)\n",
    "print(\"q = \", q, \"|| The support of x_tilda is correctly estimated in \", correct_estimations, \" out of 20 runs\" , \"\\n\")\n",
    "#parameters calculation with q=25\n",
    "q = 100\n",
    "C = np.random.rand(q, p)\n",
    "C_l_2_norm = np.linalg.norm(C, ord=2)\n",
    "tau = 1 / (C_l_2_norm**2) - 10**(-8)\n",
    "lam = 1 / (100*tau)\n",
    "\n",
    "#simulation\n",
    "correct_estimations, num_iterations = ISTA_20_runs(p, q, C, tau, lam)\n",
    "print(\"q = \", q, \"|| The support of x_tilda is correctly estimated in \", correct_estimations, \" out of 20 runs\" , \"\\n\")"
   ]
  },
  {
   "cell_type": "markdown",
   "metadata": {},
   "source": [
    "## Question 4"
   ]
  },
  {
   "cell_type": "code",
   "execution_count": 16,
   "metadata": {},
   "outputs": [
    {
     "name": "stdout",
     "output_type": "stream",
     "text": [
      "             QUESTION 4\n",
      "Try different values for τ , by keeping τλ constant\n",
      "\n",
      "tau =  0.018259064169482656 || The support of x_tilda is correctly estimated in  6  out of 20 runs \n",
      "\n",
      "tau =  0.018259064268482658 || The support of x_tilda is correctly estimated in  6  out of 20 runs \n",
      "\n"
     ]
    }
   ],
   "source": [
    "##################################### QUESTION 4 ##############################################################\n",
    "\n",
    "print(\"             QUESTION 4\\nTry different values for τ , by keeping τλ constant\\n\")\n",
    "\n",
    "#Suggested settings\n",
    "q = 10\n",
    "C = np.random.rand(q, p)                \n",
    "C_l_2_norm = np.linalg.norm(C, ord=2)\n",
    "\n",
    "#tau calculation\n",
    "gamma = tau * lam\n",
    "tau = 1 / (C_l_2_norm**2) - 10**(-10)\n",
    "lam = gamma / tau\n",
    "\n",
    "#simulation \n",
    "correct_estimations, num_iterations = ISTA_20_runs(p, q, C, tau, lam)\n",
    "print(\"tau = \", tau, \"|| The support of x_tilda is correctly estimated in \", correct_estimations, \" out of 20 runs\" , \"\\n\")\n",
    "\n",
    "#different tau\n",
    "tau = 1 / (C_l_2_norm**2) - 10**(-12)\n",
    "lam = gamma / tau\n",
    "\n",
    "#simulation\n",
    "correct_estimations, num_iterations = ISTA_20_runs(p, q, C, tau, lam)\n",
    "print(\"tau = \", tau, \"|| The support of x_tilda is correctly estimated in \", correct_estimations, \" out of 20 runs\" , \"\\n\")"
   ]
  },
  {
   "cell_type": "markdown",
   "metadata": {},
   "source": [
    "## Question 5"
   ]
  },
  {
   "cell_type": "code",
   "execution_count": 17,
   "metadata": {},
   "outputs": [
    {
     "name": "stdout",
     "output_type": "stream",
     "text": [
      "             QUESTION 5\n",
      "Try different values for λ , by keeping τ constant\n",
      "\n",
      "lam =  0.05476734913217023 || The support of x_tilda is correctly estimated in  2  out of 20 runs \n",
      "\n",
      "lam =  5.476734913217022 || The support of x_tilda is correctly estimated in  0  out of 20 runs \n",
      "\n"
     ]
    }
   ],
   "source": [
    "##################################### QUESTION 5 ##############################################################\n",
    "print(\"             QUESTION 5\\nTry different values for λ , by keeping τ constant\\n\")\n",
    "\n",
    "#suggested tau\n",
    "tau = 1 / (C_l_2_norm**2) - 10**(-8)\n",
    "\n",
    "#smaller lambda\n",
    "lam = 1 / (1000*tau)\n",
    "\n",
    "#simulation\n",
    "correct_estimations, num_iterations = ISTA_20_runs(p, q, C, tau, lam)\n",
    "print(\"lam = \", lam, \"|| The support of x_tilda is correctly estimated in \", correct_estimations, \" out of 20 runs\" , \"\\n\")\n",
    "\n",
    "#bigger lambda\n",
    "lam = 1 / (10*tau)\n",
    "\n",
    "#simulation\n",
    "correct_estimations, num_iterations = ISTA_20_runs(p, q, C, tau, lam)\n",
    "print(\"lam = \", lam, \"|| The support of x_tilda is correctly estimated in \", correct_estimations, \" out of 20 runs\" , \"\\n\")"
   ]
  },
  {
   "cell_type": "markdown",
   "metadata": {},
   "source": [
    "# Exercise 2"
   ]
  },
  {
   "cell_type": "markdown",
   "metadata": {},
   "source": []
  }
 ],
 "metadata": {
  "kernelspec": {
   "display_name": "base",
   "language": "python",
   "name": "python3"
  },
  "language_info": {
   "codemirror_mode": {
    "name": "ipython",
    "version": 3
   },
   "file_extension": ".py",
   "mimetype": "text/x-python",
   "name": "python",
   "nbconvert_exporter": "python",
   "pygments_lexer": "ipython3",
   "version": "3.9.16"
  }
 },
 "nbformat": 4,
 "nbformat_minor": 2
}
