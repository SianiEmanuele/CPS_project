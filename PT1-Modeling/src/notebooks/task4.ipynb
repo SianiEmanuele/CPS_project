{
 "cells": [
  {
   "cell_type": "code",
   "execution_count": 1,
   "metadata": {},
   "outputs": [],
   "source": [
    "import sys\n",
    "import os as os\n",
    "sys.path.append(os.path.abspath(\"..\"))\n",
    "import numpy as np\n",
    "import matplotlib.pyplot as plt\n",
    "from utils import ISTA, IST\n",
    "import scipy.io as sio\n",
    "from scipy import stats"
   ]
  },
  {
   "cell_type": "code",
   "execution_count": 2,
   "metadata": {},
   "outputs": [],
   "source": [
    "def observer(n, q, A, G, tau, lam, y, K):\n",
    "\n",
    "    # Estimate x_tilda using ISTA\n",
    "    lam_weights = np.concatenate((np.full(n, 10), np.full(q,20)))\n",
    "    x_hat = []\n",
    "    a_hat = []\n",
    "    z_hat = []\n",
    "\n",
    "    z_0 = np.zeros(n+q)\n",
    "    x_hat.append(z_0[:n])\n",
    "    a_hat.append(z_0[n:])\n",
    "    z_hat.append(z_0)\n",
    "\n",
    "    for k in range(K-1):\n",
    "        z = z_hat[k] + (np.dot(tau, np.dot(G.T, (y[:,k] - np.dot(G, z_hat[k])))))\n",
    "        gamma = tau * lam * lam_weights\n",
    "        z_hat_plus = IST(z, gamma)\n",
    "        x_hat.append(np.dot(A,z_hat_plus[:n]))\n",
    "        a_hat.append(z_hat_plus[n:])\n",
    "        z_hat.append(np.hstack((x_hat[k+1], a_hat[k+1])))\n",
    "    return x_hat, a_hat"
   ]
  },
  {
   "cell_type": "code",
   "execution_count": 3,
   "metadata": {},
   "outputs": [],
   "source": [
    "def task_4():\n",
    "    np.set_printoptions(formatter={'all': lambda x: \"{:.4g}\".format(x)})\n",
    "    cwd = os.getcwd()\n",
    "    #original matrices\n",
    "    mat = sio.loadmat(cwd + r'/../utils/tracking_moving_targets.mat')\n",
    "    A = mat['A']\n",
    "    y = mat['Y']\n",
    "    D = mat['D']\n",
    "    n = D.shape[1]\n",
    "    q = D.shape[0]\n",
    "    K = y.shape[1]\n",
    "\n",
    "    G = np.hstack((D, np.eye(q)))\n",
    "    #normalize G\n",
    "    G = stats.zscore(G, axis=0)\n",
    "\n",
    "    tau = 1 / (np.linalg.norm(G, ord=2)**2) - 10**(-8)\n",
    "    lam = 1\n",
    "    x_hat, a_hat = observer(n, q, A, G, tau, lam, y, K)\n",
    "\n",
    "\n",
    "    # # Extract the estimated targets' location by taking the 3 greatest values of the first n elements of w_estimated\n",
    "    # estimated_targets_location = np.argsort(w_estimated[:n])[-3:]\n",
    "\n",
    "    # # Extract the estimated attacked vectors from the support of the last q eleemnts of w_estimated\n",
    "    # estimated_attacked_sensors = np.where(w_estimated[n:] != 0)[0]\n",
    "    \n",
    "    # print(\"Estimated targets location: \", estimated_targets_location)\n",
    "    # print(\"Estimated attacked sensors: \", estimated_attacked_sensors)\n",
    "\n",
    "    H = 10  # Grid's height (# celle)\n",
    "    L = 10  # Grid's length (# celle)\n",
    "    W = 100  # Cell's width (cm)\n",
    "\n",
    "    room_grid = np.zeros((2, n))\n",
    "    for i in range(n):\n",
    "        room_grid[0, i] = W//2 + (i % L) * W\n",
    "        room_grid[1, i] = W//2 + (i // L) * W\n",
    "    \n",
    "    fig, ax = plt.subplots()\n",
    "    true_location = []\n",
    "    true_location.append([21,34,85])\n",
    "    # append other 49 true locations by subtracting 1 from each element\n",
    "    for i in range(49):\n",
    "        true_location.append([x-1 for x in true_location[i]])\n",
    "\n",
    "    \n",
    "\n",
    "\n",
    "    for x,true_x,a in zip(x_hat,true_location, a_hat):\n",
    "        estimated_targets_location = np.argsort(x)[-3:]\n",
    "        estimated_attacked_sensors = np.argsort(a)[-2:]\n",
    "        print(\"Estimated attacked sensors: \", estimated_attacked_sensors)\n",
    "\n",
    "        # Pulisci il grafico precedente\n",
    "        ax.clear()\n",
    "\n",
    "        # Plotta i nuovi dati\n",
    "        ax.plot(room_grid[0, true_x], room_grid[1, true_x], 's', markersize=9, \n",
    "                markeredgecolor=np.array([40, 208, 220])/255, \n",
    "                markerfacecolor=np.array([40, 208, 220])/255)\n",
    "        # update true location by subtracting 1 from each element as red circles\n",
    "        ax.plot(room_grid[0, estimated_targets_location], room_grid[1, estimated_targets_location], 'x', markersize=9, \n",
    "                markeredgecolor=np.array([255, 0, 0])/255, \n",
    "                markerfacecolor=np.array([255, 255, 255])/255)\n",
    "\n",
    "\n",
    "        ax.grid(True)\n",
    "        ax.legend(['True Targets', 'Estimated Targets'], loc='best')\n",
    "\n",
    "        ax.set_xticks(np.arange(100, 1001, 100))\n",
    "        ax.set_yticks(np.arange(100, 1001, 100))\n",
    "        ax.set_xlabel('(cm)')\n",
    "        ax.set_ylabel('(cm)')\n",
    "        ax.set_xlim([0, 1000])\n",
    "        ax.set_ylim([0, 1000])\n",
    "        ax.set_aspect('equal', adjustable='box')\n",
    "\n",
    "        # Aggiorna la figura\n",
    "        plt.pause(0.5)\n",
    "        \n",
    "\n",
    "    # Mostra il grafico finale\n",
    "    plt.show()\n",
    "    return "
   ]
  },
  {
   "cell_type": "code",
   "execution_count": 4,
   "metadata": {},
   "outputs": [
    {
     "name": "stdout",
     "output_type": "stream",
     "text": [
      "Estimated attacked sensors:  []\n"
     ]
    },
    {
     "data": {
      "image/png": "[encoded data removed]",
      "text/plain": [
       "<Figure size 640x480 with 1 Axes>"
      ]
     },
     "metadata": {},
     "output_type": "display_data"
    },
    {
     "name": "stdout",
     "output_type": "stream",
     "text": [
      "Estimated attacked sensors:  [0 1 2 3 4 5 6 7 8 9 10 11 12 13 14 15 16 17 18 19 20 21 22 23 24]\n",
      "Estimated attacked sensors:  [0 1 2 3 4 5 6 7 8 9 10 11 12 13 14 15 16 17 18 19 20 21 22 23 24]\n",
      "Estimated attacked sensors:  [0 1 2 3 4 5 6 7 8 9 10 11 12 13 14 15 16 17 18 19 20 21 22 24]\n",
      "Estimated attacked sensors:  [0 1 2 3 4 5 6 7 8 9 10 11 12 13 14 15 16 17 18 19 20 22 23 24]\n",
      "Estimated attacked sensors:  [0 1 2 3 4 5 6 7 8 9 10 11 12 13 14 15 16 17 18 19 20 21 22 23 24]\n"
     ]
    },
    {
     "ename": "KeyboardInterrupt",
     "evalue": "",
     "output_type": "error",
     "traceback": [
      "\u001b[1;31m---------------------------------------------------------------------------\u001b[0m",
      "\u001b[1;31mKeyboardInterrupt\u001b[0m                         Traceback (most recent call last)",
      "Cell \u001b[1;32mIn[4], line 1\u001b[0m\n\u001b[1;32m----> 1\u001b[0m \u001b[43mtask_4\u001b[49m\u001b[43m(\u001b[49m\u001b[43m)\u001b[49m\n",
      "Cell \u001b[1;32mIn[3], line 80\u001b[0m, in \u001b[0;36mtask_4\u001b[1;34m()\u001b[0m\n\u001b[0;32m     77\u001b[0m     ax\u001b[38;5;241m.\u001b[39mset_aspect(\u001b[38;5;124m'\u001b[39m\u001b[38;5;124mequal\u001b[39m\u001b[38;5;124m'\u001b[39m, adjustable\u001b[38;5;241m=\u001b[39m\u001b[38;5;124m'\u001b[39m\u001b[38;5;124mbox\u001b[39m\u001b[38;5;124m'\u001b[39m)\n\u001b[0;32m     79\u001b[0m     \u001b[38;5;66;03m# Aggiorna la figura\u001b[39;00m\n\u001b[1;32m---> 80\u001b[0m     \u001b[43mplt\u001b[49m\u001b[38;5;241;43m.\u001b[39;49m\u001b[43mpause\u001b[49m\u001b[43m(\u001b[49m\u001b[38;5;241;43m0.5\u001b[39;49m\u001b[43m)\u001b[49m\n\u001b[0;32m     83\u001b[0m \u001b[38;5;66;03m# Mostra il grafico finale\u001b[39;00m\n\u001b[0;32m     84\u001b[0m plt\u001b[38;5;241m.\u001b[39mshow()\n",
      "File \u001b[1;32m~\\AppData\\Roaming\\Python\\Python39\\site-packages\\matplotlib\\pyplot.py:584\u001b[0m, in \u001b[0;36mpause\u001b[1;34m(interval)\u001b[0m\n\u001b[0;32m    582\u001b[0m     canvas\u001b[38;5;241m.\u001b[39mstart_event_loop(interval)\n\u001b[0;32m    583\u001b[0m \u001b[38;5;28;01melse\u001b[39;00m:\n\u001b[1;32m--> 584\u001b[0m     \u001b[43mtime\u001b[49m\u001b[38;5;241;43m.\u001b[39;49m\u001b[43msleep\u001b[49m\u001b[43m(\u001b[49m\u001b[43minterval\u001b[49m\u001b[43m)\u001b[49m\n",
      "\u001b[1;31mKeyboardInterrupt\u001b[0m: "
     ]
    }
   ],
   "source": [
    "task_4()"
   ]
  }
 ],
 "metadata": {
  "kernelspec": {
   "display_name": "base",
   "language": "python",
   "name": "python3"
  },
  "language_info": {
   "codemirror_mode": {
    "name": "ipython",
    "version": 3
   },
   "file_extension": ".py",
   "mimetype": "text/x-python",
   "name": "python",
   "nbconvert_exporter": "python",
   "pygments_lexer": "ipython3",
   "version": "3.9.16"
  }
 },
 "nbformat": 4,
 "nbformat_minor": 2
}
