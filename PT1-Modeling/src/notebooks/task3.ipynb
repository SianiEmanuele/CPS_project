{
 "cells": [
  {
   "cell_type": "code",
   "execution_count": 5,
   "metadata": {},
   "outputs": [],
   "source": [
    "import sys\n",
    "import os as os\n",
    "sys.path.append(os.path.abspath(\"..\"))\n",
    "import numpy as np\n",
    "import matplotlib.pyplot as plt\n",
    "from utils import ISTA, IST\n",
    "import scipy.io as sio\n",
    "from scipy import stats"
   ]
  },
  {
   "cell_type": "code",
   "execution_count": 6,
   "metadata": {},
   "outputs": [],
   "source": [
    "def Localization_with_attacks(n, q, G, tau, lam, y):\n",
    "\n",
    "    # Estimate x_tilda using ISTA\n",
    "    lam_weights = np.concatenate((np.full(n, 10), np.full(q,20)))\n",
    "    w = np.zeros(n+q)\n",
    "    w_estimated, w_estimated_supp, iterations = ISTA(w, G, tau, lam * lam_weights, y)\n",
    "\n",
    "    return w_estimated, w_estimated_supp, iterations"
   ]
  },
  {
   "cell_type": "markdown",
   "metadata": {},
   "source": [
    "Regarding the estimated state vector, our results indicated the need for refinement, as we observed more than three non-zero elements, even though their values were low. In a real-world scenario, knowing the number of targets to localize is feasible, so we selected the top three non-zero elements from the estimated $x$ vector, setting the others to 0. This approach ensured that the estimated support was accurate.\n",
    "\n",
    "In contrast, the attacked sensors were clearly identified without requiring any additional cleaning."
   ]
  },
  {
   "cell_type": "code",
   "execution_count": 7,
   "metadata": {},
   "outputs": [],
   "source": [
    "def task_3():\n",
    "\n",
    "    cwd = os.getcwd()\n",
    "    #original matrices\n",
    "    mat = sio.loadmat(cwd + r'/../utils/localization.mat')\n",
    "\n",
    "    A = mat['A']\n",
    "    y = np.squeeze(mat['y'])\n",
    "    D = mat['D']\n",
    "    n = D.shape[1]\n",
    "    q = D.shape[0]\n",
    "\n",
    "    G = np.hstack((D, np.eye(q)))\n",
    "    #normalize G\n",
    "    G = stats.zscore(G, axis=0)\n",
    "\n",
    "    tau = 1 / (np.linalg.norm(G, ord=2)**2) - 10**(-8)\n",
    "    lam = 1\n",
    "    \n",
    "    w_estimated, w_estimated_supp, iterations = Localization_with_attacks(n, q, G, tau, lam, y)\n",
    "\n",
    "    # Extract the estimated targets' location by taking the 3 greatest values of the first n elements of w_estimated\n",
    "    estimated_targets_location = np.argsort(w_estimated[:n])[-3:]\n",
    "\n",
    "    # Extract the estimated attacked vectors from the support of the last q eleemnts of w_estimated\n",
    "    estimated_attacked_sensors = np.where(w_estimated[n:] != 0)[0]\n",
    "    \n",
    "    print(\"Estimated targets location: \", estimated_targets_location)\n",
    "    print(\"Estimated attacked sensors: \", estimated_attacked_sensors)\n",
    "\n",
    "    H = 10  # Grid's height (# celle)\n",
    "    L = 10  # Grid's length (# celle)\n",
    "    W = 100  # Cell's width (cm)\n",
    "\n",
    "    room_grid = np.zeros((2, n))\n",
    "\n",
    "    for i in range(n):\n",
    "        room_grid[0, i] = W//2 + (i % L) * W\n",
    "        room_grid[1, i] = W//2 + (i // L) * W\n",
    "\n",
    "    # Plots\n",
    "    plt.figure()\n",
    "    plt.plot(room_grid[0, estimated_targets_location], room_grid[1, estimated_targets_location], 's', markersize=9, \n",
    "            markeredgecolor=np.array([40, 208, 220])/255, \n",
    "            markerfacecolor=np.array([40, 208, 220])/255)\n",
    "    plt.grid(True)\n",
    "    plt.legend(['Targets'], loc='best')\n",
    "#     plt.plot(room_grid[0, estimated_attacked_sensors], room_grid[1, estimated_attacked_sensors], 's', markersize=9, \n",
    "#             markeredgecolor=np.array([255, 0, 0])/255, \n",
    "#             markerfacecolor=np.array([255, 0, 0])/255)\n",
    "\n",
    "    plt.xticks(np.arange(100, 1001, 100))\n",
    "    plt.yticks(np.arange(100, 1001, 100))\n",
    "    plt.xlabel('(cm)')\n",
    "    plt.ylabel('(cm)')\n",
    "    plt.axis([0, 1000, 0, 1000])\n",
    "    plt.gca().set_aspect('equal', adjustable='box')\n",
    "\n",
    "    plt.show()\n"
   ]
  },
  {
   "cell_type": "code",
   "execution_count": 8,
   "metadata": {},
   "outputs": [
    {
     "name": "stdout",
     "output_type": "stream",
     "text": [
      "Estimated targets location:  [35 22 86]\n",
      "Estimated attacked sensors:  [11 15]\n"
     ]
    },
    {
     "data": {
      "image/png": "[encoded data removed]",
      "text/plain": [
       "<Figure size 640x480 with 1 Axes>"
      ]
     },
     "metadata": {},
     "output_type": "display_data"
    }
   ],
   "source": [
    "task_3()"
   ]
  }
 ],
 "metadata": {
  "kernelspec": {
   "display_name": "base",
   "language": "python",
   "name": "python3"
  },
  "language_info": {
   "codemirror_mode": {
    "name": "ipython",
    "version": 3
   },
   "file_extension": ".py",
   "mimetype": "text/x-python",
   "name": "python",
   "nbconvert_exporter": "python",
   "pygments_lexer": "ipython3",
   "version": "3.9.16"
  }
 },
 "nbformat": 4,
 "nbformat_minor": 2
}
